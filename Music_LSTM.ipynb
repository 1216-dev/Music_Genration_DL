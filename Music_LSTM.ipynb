{
  "cells": [
    {
      "cell_type": "code",
      "execution_count": null,
      "metadata": {
        "colab": {
          "base_uri": "https://localhost:8080/"
        },
        "id": "fTpgsqaPBdbI",
        "outputId": "ef4ef4d0-7b2d-48e8-bb78-bfdb2d430388"
      },
      "outputs": [
        {
          "name": "stdout",
          "output_type": "stream",
          "text": [
            "Requirement already satisfied: keras in /usr/local/lib/python3.10/dist-packages (3.4.1)\n",
            "Requirement already satisfied: absl-py in /usr/local/lib/python3.10/dist-packages (from keras) (1.4.0)\n",
            "Requirement already satisfied: numpy in /usr/local/lib/python3.10/dist-packages (from keras) (1.26.4)\n",
            "Requirement already satisfied: rich in /usr/local/lib/python3.10/dist-packages (from keras) (13.8.0)\n",
            "Requirement already satisfied: namex in /usr/local/lib/python3.10/dist-packages (from keras) (0.0.8)\n",
            "Requirement already satisfied: h5py in /usr/local/lib/python3.10/dist-packages (from keras) (3.11.0)\n",
            "Requirement already satisfied: optree in /usr/local/lib/python3.10/dist-packages (from keras) (0.12.1)\n",
            "Requirement already satisfied: ml-dtypes in /usr/local/lib/python3.10/dist-packages (from keras) (0.4.0)\n",
            "Requirement already satisfied: packaging in /usr/local/lib/python3.10/dist-packages (from keras) (24.1)\n",
            "Requirement already satisfied: typing-extensions>=4.5.0 in /usr/local/lib/python3.10/dist-packages (from optree->keras) (4.12.2)\n",
            "Requirement already satisfied: markdown-it-py>=2.2.0 in /usr/local/lib/python3.10/dist-packages (from rich->keras) (3.0.0)\n",
            "Requirement already satisfied: pygments<3.0.0,>=2.13.0 in /usr/local/lib/python3.10/dist-packages (from rich->keras) (2.16.1)\n",
            "Requirement already satisfied: mdurl~=0.1 in /usr/local/lib/python3.10/dist-packages (from markdown-it-py>=2.2.0->rich->keras) (0.1.2)\n"
          ]
        }
      ],
      "source": [
        "pip install keras"
      ]
    },
    {
      "cell_type": "code",
      "execution_count": null,
      "metadata": {
        "colab": {
          "base_uri": "https://localhost:8080/"
        },
        "id": "Rh4XkLjDBfuQ",
        "outputId": "baabd858-40ba-4055-c278-34c5511e34ea"
      },
      "outputs": [
        {
          "name": "stdout",
          "output_type": "stream",
          "text": [
            "Requirement already satisfied: tensorflow in /usr/local/lib/python3.10/dist-packages (2.17.0)\n",
            "Requirement already satisfied: absl-py>=1.0.0 in /usr/local/lib/python3.10/dist-packages (from tensorflow) (1.4.0)\n",
            "Requirement already satisfied: astunparse>=1.6.0 in /usr/local/lib/python3.10/dist-packages (from tensorflow) (1.6.3)\n",
            "Requirement already satisfied: flatbuffers>=24.3.25 in /usr/local/lib/python3.10/dist-packages (from tensorflow) (24.3.25)\n",
            "Requirement already satisfied: gast!=0.5.0,!=0.5.1,!=0.5.2,>=0.2.1 in /usr/local/lib/python3.10/dist-packages (from tensorflow) (0.6.0)\n",
            "Requirement already satisfied: google-pasta>=0.1.1 in /usr/local/lib/python3.10/dist-packages (from tensorflow) (0.2.0)\n",
            "Requirement already satisfied: h5py>=3.10.0 in /usr/local/lib/python3.10/dist-packages (from tensorflow) (3.11.0)\n",
            "Requirement already satisfied: libclang>=13.0.0 in /usr/local/lib/python3.10/dist-packages (from tensorflow) (18.1.1)\n",
            "Requirement already satisfied: ml-dtypes<0.5.0,>=0.3.1 in /usr/local/lib/python3.10/dist-packages (from tensorflow) (0.4.0)\n",
            "Requirement already satisfied: opt-einsum>=2.3.2 in /usr/local/lib/python3.10/dist-packages (from tensorflow) (3.3.0)\n",
            "Requirement already satisfied: packaging in /usr/local/lib/python3.10/dist-packages (from tensorflow) (24.1)\n",
            "Requirement already satisfied: protobuf!=4.21.0,!=4.21.1,!=4.21.2,!=4.21.3,!=4.21.4,!=4.21.5,<5.0.0dev,>=3.20.3 in /usr/local/lib/python3.10/dist-packages (from tensorflow) (3.20.3)\n",
            "Requirement already satisfied: requests<3,>=2.21.0 in /usr/local/lib/python3.10/dist-packages (from tensorflow) (2.32.3)\n",
            "Requirement already satisfied: setuptools in /usr/local/lib/python3.10/dist-packages (from tensorflow) (71.0.4)\n",
            "Requirement already satisfied: six>=1.12.0 in /usr/local/lib/python3.10/dist-packages (from tensorflow) (1.16.0)\n",
            "Requirement already satisfied: termcolor>=1.1.0 in /usr/local/lib/python3.10/dist-packages (from tensorflow) (2.4.0)\n",
            "Requirement already satisfied: typing-extensions>=3.6.6 in /usr/local/lib/python3.10/dist-packages (from tensorflow) (4.12.2)\n",
            "Requirement already satisfied: wrapt>=1.11.0 in /usr/local/lib/python3.10/dist-packages (from tensorflow) (1.16.0)\n",
            "Requirement already satisfied: grpcio<2.0,>=1.24.3 in /usr/local/lib/python3.10/dist-packages (from tensorflow) (1.64.1)\n",
            "Requirement already satisfied: tensorboard<2.18,>=2.17 in /usr/local/lib/python3.10/dist-packages (from tensorflow) (2.17.0)\n",
            "Requirement already satisfied: keras>=3.2.0 in /usr/local/lib/python3.10/dist-packages (from tensorflow) (3.4.1)\n",
            "Requirement already satisfied: tensorflow-io-gcs-filesystem>=0.23.1 in /usr/local/lib/python3.10/dist-packages (from tensorflow) (0.37.1)\n",
            "Requirement already satisfied: numpy<2.0.0,>=1.23.5 in /usr/local/lib/python3.10/dist-packages (from tensorflow) (1.26.4)\n",
            "Requirement already satisfied: wheel<1.0,>=0.23.0 in /usr/local/lib/python3.10/dist-packages (from astunparse>=1.6.0->tensorflow) (0.44.0)\n",
            "Requirement already satisfied: rich in /usr/local/lib/python3.10/dist-packages (from keras>=3.2.0->tensorflow) (13.8.0)\n",
            "Requirement already satisfied: namex in /usr/local/lib/python3.10/dist-packages (from keras>=3.2.0->tensorflow) (0.0.8)\n",
            "Requirement already satisfied: optree in /usr/local/lib/python3.10/dist-packages (from keras>=3.2.0->tensorflow) (0.12.1)\n",
            "Requirement already satisfied: charset-normalizer<4,>=2 in /usr/local/lib/python3.10/dist-packages (from requests<3,>=2.21.0->tensorflow) (3.3.2)\n",
            "Requirement already satisfied: idna<4,>=2.5 in /usr/local/lib/python3.10/dist-packages (from requests<3,>=2.21.0->tensorflow) (3.8)\n",
            "Requirement already satisfied: urllib3<3,>=1.21.1 in /usr/local/lib/python3.10/dist-packages (from requests<3,>=2.21.0->tensorflow) (2.0.7)\n",
            "Requirement already satisfied: certifi>=2017.4.17 in /usr/local/lib/python3.10/dist-packages (from requests<3,>=2.21.0->tensorflow) (2024.7.4)\n",
            "Requirement already satisfied: markdown>=2.6.8 in /usr/local/lib/python3.10/dist-packages (from tensorboard<2.18,>=2.17->tensorflow) (3.7)\n",
            "Requirement already satisfied: tensorboard-data-server<0.8.0,>=0.7.0 in /usr/local/lib/python3.10/dist-packages (from tensorboard<2.18,>=2.17->tensorflow) (0.7.2)\n",
            "Requirement already satisfied: werkzeug>=1.0.1 in /usr/local/lib/python3.10/dist-packages (from tensorboard<2.18,>=2.17->tensorflow) (3.0.4)\n",
            "Requirement already satisfied: MarkupSafe>=2.1.1 in /usr/local/lib/python3.10/dist-packages (from werkzeug>=1.0.1->tensorboard<2.18,>=2.17->tensorflow) (2.1.5)\n",
            "Requirement already satisfied: markdown-it-py>=2.2.0 in /usr/local/lib/python3.10/dist-packages (from rich->keras>=3.2.0->tensorflow) (3.0.0)\n",
            "Requirement already satisfied: pygments<3.0.0,>=2.13.0 in /usr/local/lib/python3.10/dist-packages (from rich->keras>=3.2.0->tensorflow) (2.16.1)\n",
            "Requirement already satisfied: mdurl~=0.1 in /usr/local/lib/python3.10/dist-packages (from markdown-it-py>=2.2.0->rich->keras>=3.2.0->tensorflow) (0.1.2)\n"
          ]
        }
      ],
      "source": [
        "pip install tensorflow"
      ]
    },
    {
      "cell_type": "code",
      "execution_count": null,
      "metadata": {
        "colab": {
          "base_uri": "https://localhost:8080/"
        },
        "id": "Rp6bGuGtBnYo",
        "outputId": "9698c143-87ea-4f2d-d1fe-513c9801ac76"
      },
      "outputs": [
        {
          "name": "stdout",
          "output_type": "stream",
          "text": [
            "Top-level extracted files and folders: ['midi_songs']\n"
          ]
        }
      ],
      "source": [
        "import zipfile\n",
        "import os\n",
        "\n",
        "# Path to your ZIP file\n",
        "\n",
        "zip_file_path = '/content/midi_song.zip'\n",
        "extracted_folder_path = '/content/midi_songs'\n",
        "\n",
        "# Create the directory if it doesn't exist\n",
        "os.makedirs(extracted_folder_path, exist_ok=True)\n",
        "\n",
        "# Extract the ZIP file\n",
        "with zipfile.ZipFile(zip_file_path, 'r') as zip_ref:\n",
        "    zip_ref.extractall(extracted_folder_path)\n",
        "\n",
        "# List the contents of the top-level extracted folder\n",
        "extracted_files = os.listdir(extracted_folder_path)\n",
        "print(\"Top-level extracted files and folders:\", extracted_files)\n",
        "\n"
      ]
    },
    {
      "cell_type": "markdown",
      "metadata": {
        "id": "qUY4S-J0B0EM"
      },
      "source": [
        "Unzipping the mid_songs file and parsing the songs in midi format"
      ]
    },
    {
      "cell_type": "markdown",
      "metadata": {
        "id": "-GR2fz9BB6rm"
      },
      "source": [
        "# ***Preparing the data***"
      ]
    },
    {
      "cell_type": "code",
      "execution_count": null,
      "metadata": {
        "colab": {
          "base_uri": "https://localhost:8080/"
        },
        "id": "xKyVfCewBrn8",
        "outputId": "540f4975-196e-4a4d-aaae-2a0677573aad"
      },
      "outputs": [
        {
          "name": "stdout",
          "output_type": "stream",
          "text": [
            "Files in subfolder: ['FF4.mid', 'fortresscondor.mid', 'Finalfantasy6fanfarecomplete.mid', 'FFIXQuMarshP.mid', 'ff4pclov.mid', 'ff4-town.mid', 'pkelite4.mid', 'Fyw_piano.mid', 'sandy.mid', 'ff8-lfp.mid', 'Fiend_Battle_(Piano).mid', 'Finalfantasy5gilgameshp.mid', 'cosmo.mid', 'FF8_Shuffle_or_boogie_pc.mid', 'great_war.mid', 'ff4-airship.mid', 'z_aeristhemepiano.mid', 'Cids.mid', 'Gold_Silver_Rival_Battle.mid', 'ff4-fight1.mid', 'ff11_awakening_piano.mid', 'FFVII_BATTLE.mid', 'Rydia_pc.mid', 'costadsol.mid', 'Rachel_Piano_tempofix.mid', 'Eternal_Harvest.mid', '8.mid', 'decisive.mid', 'ff7themep.mid', 'Oppressed.mid', 'Fierce_Battle_(Piano).mid', 'VincentPiano.mid', 'thoughts.mid', 'dayafter.mid', 'balamb.mid', 'ff6shap.mid', 'Final_Fantasy_7_-_Judgement_Day_Piano.mid', 'braska.mid', '0fithos.mid', 'ff4_piano_collections-main_theme.mid', 'thenightmarebegins.mid', 'sobf.mid', 'rufus.mid', 'Suteki_Da_Ne_(Piano_Version).mid', 'figaro.mid', 'caitsith.mid', 'dontbeafraid.mid', 'redwings.mid', 'JENOVA.mid', 'FFX_-_Ending_Theme_(Piano_Version)_-_by_Angel_FF.mid', 'FF6epitaph_piano.mid', 'EyesOnMePiano.mid', 'Life_Stream.mid', 'waltz_de_choco.mid', 'Zelda_Overworld.mid', 'ultimafro.mid', 'Ff4-BattleLust.mid', 'sera_.mid', 'lurk_in_dark.mid', 'BlueStone_LastDungeon.mid', 'FF3_Battle_(Piano).mid', 'ultros.mid', 'Ff7-Jenova_Absolute.mid', 'goldsaucer.mid', 'traitor.mid', 'Final_Fantasy_Matouyas_Cave_Piano.mid', 'relmstheme-piano.mid', 'OTD5YA.mid', 'DOS.mid', 'Kingdom_Hearts_Dearly_Beloved.mid', 'Ff7-One_Winged.mid', 'tifap.mid', 'Kingdom_Hearts_Traverse_Town.mid', 'path_of_repentance.mid', 'ff1battp.mid', 'FFIX_Piano.mid', 'HighwindTakestotheSkies.mid', 'FF3_Third_Phase_Final_(Piano).mid', 'ViviinAlexandria.mid', 'roseofmay-piano.mid', 'mining.mid', 'FFIII_Edgar_And_Sabin_Piano.mid', 'Ff7-Cinco.mid', 'tpirtsd-piano.mid', 'ff7-mainmidi.mid', 'In_Zanarkand.mid', 'electric_de_chocobo.mid', 'ahead_on_our_way_piano.mid', 'bcm.mid', 'gerudo.mid', 'Still_Alive-1.mid', 'AT.mid']\n",
            "Processing file: /content/midi_songs/midi_songs/FF4.mid\n",
            "Processing file: /content/midi_songs/midi_songs/fortresscondor.mid\n",
            "Processing file: /content/midi_songs/midi_songs/Finalfantasy6fanfarecomplete.mid\n",
            "Processing file: /content/midi_songs/midi_songs/FFIXQuMarshP.mid\n",
            "Processing file: /content/midi_songs/midi_songs/ff4pclov.mid\n",
            "Processing file: /content/midi_songs/midi_songs/ff4-town.mid\n",
            "Processing file: /content/midi_songs/midi_songs/pkelite4.mid\n"
          ]
        },
        {
          "name": "stderr",
          "output_type": "stream",
          "text": [
            "/usr/local/lib/python3.10/dist-packages/music21/midi/translate.py:874: TranslateWarning: Unable to determine instrument from <music21.midi.MidiEvent SEQUENCE_TRACK_NAME, track=6, channel=None, data=b'Pok\\xe9mon: Elite Four (Piano)'>; getting generic Instrument\n",
            "  warnings.warn(\n"
          ]
        },
        {
          "name": "stdout",
          "output_type": "stream",
          "text": [
            "Processing file: /content/midi_songs/midi_songs/Fyw_piano.mid\n",
            "Processing file: /content/midi_songs/midi_songs/sandy.mid\n",
            "Processing file: /content/midi_songs/midi_songs/ff8-lfp.mid\n",
            "Processing file: /content/midi_songs/midi_songs/Fiend_Battle_(Piano).mid\n",
            "Processing file: /content/midi_songs/midi_songs/Finalfantasy5gilgameshp.mid\n",
            "Processing file: /content/midi_songs/midi_songs/cosmo.mid\n",
            "Processing file: /content/midi_songs/midi_songs/FF8_Shuffle_or_boogie_pc.mid\n",
            "Processing file: /content/midi_songs/midi_songs/great_war.mid\n",
            "Processing file: /content/midi_songs/midi_songs/ff4-airship.mid\n",
            "Processing file: /content/midi_songs/midi_songs/z_aeristhemepiano.mid\n",
            "Processing file: /content/midi_songs/midi_songs/Cids.mid\n",
            "Processing file: /content/midi_songs/midi_songs/Gold_Silver_Rival_Battle.mid\n",
            "Processing file: /content/midi_songs/midi_songs/ff4-fight1.mid\n",
            "Processing file: /content/midi_songs/midi_songs/ff11_awakening_piano.mid\n",
            "Processing file: /content/midi_songs/midi_songs/FFVII_BATTLE.mid\n",
            "Processing file: /content/midi_songs/midi_songs/Rydia_pc.mid\n",
            "Processing file: /content/midi_songs/midi_songs/costadsol.mid\n",
            "Processing file: /content/midi_songs/midi_songs/Rachel_Piano_tempofix.mid\n",
            "Processing file: /content/midi_songs/midi_songs/Eternal_Harvest.mid\n",
            "Processing file: /content/midi_songs/midi_songs/8.mid\n",
            "Processing file: /content/midi_songs/midi_songs/decisive.mid\n",
            "Processing file: /content/midi_songs/midi_songs/ff7themep.mid\n"
          ]
        },
        {
          "name": "stderr",
          "output_type": "stream",
          "text": [
            "/usr/local/lib/python3.10/dist-packages/music21/midi/translate.py:874: TranslateWarning: Unable to determine instrument from <music21.midi.MidiEvent SEQUENCE_TRACK_NAME, track=5, channel=None, data=b'Martin Rosok Copyright \\xa9 1998'>; getting generic Instrument\n",
            "  warnings.warn(\n"
          ]
        },
        {
          "name": "stdout",
          "output_type": "stream",
          "text": [
            "Processing file: /content/midi_songs/midi_songs/Oppressed.mid\n",
            "Processing file: /content/midi_songs/midi_songs/Fierce_Battle_(Piano).mid\n",
            "Processing file: /content/midi_songs/midi_songs/VincentPiano.mid\n",
            "Processing file: /content/midi_songs/midi_songs/thoughts.mid\n",
            "Processing file: /content/midi_songs/midi_songs/dayafter.mid\n",
            "Processing file: /content/midi_songs/midi_songs/balamb.mid\n",
            "Processing file: /content/midi_songs/midi_songs/ff6shap.mid\n",
            "Processing file: /content/midi_songs/midi_songs/Final_Fantasy_7_-_Judgement_Day_Piano.mid\n",
            "Processing file: /content/midi_songs/midi_songs/braska.mid\n",
            "Processing file: /content/midi_songs/midi_songs/0fithos.mid\n",
            "Processing file: /content/midi_songs/midi_songs/ff4_piano_collections-main_theme.mid\n",
            "Processing file: /content/midi_songs/midi_songs/thenightmarebegins.mid\n",
            "Processing file: /content/midi_songs/midi_songs/sobf.mid\n",
            "Processing file: /content/midi_songs/midi_songs/rufus.mid\n",
            "Processing file: /content/midi_songs/midi_songs/Suteki_Da_Ne_(Piano_Version).mid\n",
            "Processing file: /content/midi_songs/midi_songs/figaro.mid\n",
            "Processing file: /content/midi_songs/midi_songs/caitsith.mid\n",
            "Processing file: /content/midi_songs/midi_songs/dontbeafraid.mid\n",
            "Processing file: /content/midi_songs/midi_songs/redwings.mid\n",
            "Processing file: /content/midi_songs/midi_songs/JENOVA.mid\n",
            "Processing file: /content/midi_songs/midi_songs/FFX_-_Ending_Theme_(Piano_Version)_-_by_Angel_FF.mid\n",
            "Processing file: /content/midi_songs/midi_songs/FF6epitaph_piano.mid\n",
            "Processing file: /content/midi_songs/midi_songs/EyesOnMePiano.mid\n",
            "Processing file: /content/midi_songs/midi_songs/Life_Stream.mid\n",
            "Processing file: /content/midi_songs/midi_songs/waltz_de_choco.mid\n",
            "Processing file: /content/midi_songs/midi_songs/Zelda_Overworld.mid\n",
            "Processing file: /content/midi_songs/midi_songs/ultimafro.mid\n",
            "Processing file: /content/midi_songs/midi_songs/Ff4-BattleLust.mid\n",
            "Processing file: /content/midi_songs/midi_songs/sera_.mid\n",
            "Processing file: /content/midi_songs/midi_songs/lurk_in_dark.mid\n",
            "Processing file: /content/midi_songs/midi_songs/BlueStone_LastDungeon.mid\n",
            "Processing file: /content/midi_songs/midi_songs/FF3_Battle_(Piano).mid\n",
            "Processing file: /content/midi_songs/midi_songs/ultros.mid\n",
            "Processing file: /content/midi_songs/midi_songs/Ff7-Jenova_Absolute.mid\n",
            "Processing file: /content/midi_songs/midi_songs/goldsaucer.mid\n",
            "Processing file: /content/midi_songs/midi_songs/traitor.mid\n",
            "Processing file: /content/midi_songs/midi_songs/Final_Fantasy_Matouyas_Cave_Piano.mid\n",
            "Processing file: /content/midi_songs/midi_songs/relmstheme-piano.mid\n",
            "Processing file: /content/midi_songs/midi_songs/OTD5YA.mid\n",
            "Processing file: /content/midi_songs/midi_songs/DOS.mid\n",
            "Processing file: /content/midi_songs/midi_songs/Kingdom_Hearts_Dearly_Beloved.mid\n",
            "Processing file: /content/midi_songs/midi_songs/Ff7-One_Winged.mid\n",
            "Processing file: /content/midi_songs/midi_songs/tifap.mid\n",
            "Processing file: /content/midi_songs/midi_songs/Kingdom_Hearts_Traverse_Town.mid\n",
            "Processing file: /content/midi_songs/midi_songs/path_of_repentance.mid\n",
            "Processing file: /content/midi_songs/midi_songs/ff1battp.mid\n",
            "Processing file: /content/midi_songs/midi_songs/FFIX_Piano.mid\n",
            "Processing file: /content/midi_songs/midi_songs/HighwindTakestotheSkies.mid\n",
            "Processing file: /content/midi_songs/midi_songs/FF3_Third_Phase_Final_(Piano).mid\n",
            "Processing file: /content/midi_songs/midi_songs/ViviinAlexandria.mid\n",
            "Processing file: /content/midi_songs/midi_songs/roseofmay-piano.mid\n",
            "Processing file: /content/midi_songs/midi_songs/mining.mid\n",
            "Processing file: /content/midi_songs/midi_songs/FFIII_Edgar_And_Sabin_Piano.mid\n",
            "Processing file: /content/midi_songs/midi_songs/Ff7-Cinco.mid\n",
            "Processing file: /content/midi_songs/midi_songs/tpirtsd-piano.mid\n",
            "Processing file: /content/midi_songs/midi_songs/ff7-mainmidi.mid\n",
            "Processing file: /content/midi_songs/midi_songs/In_Zanarkand.mid\n",
            "Processing file: /content/midi_songs/midi_songs/electric_de_chocobo.mid\n",
            "Processing file: /content/midi_songs/midi_songs/ahead_on_our_way_piano.mid\n",
            "Processing file: /content/midi_songs/midi_songs/bcm.mid\n",
            "Processing file: /content/midi_songs/midi_songs/gerudo.mid\n",
            "Processing file: /content/midi_songs/midi_songs/Still_Alive-1.mid\n",
            "Processing file: /content/midi_songs/midi_songs/AT.mid\n",
            "Total notes: 45976\n"
          ]
        }
      ],
      "source": [
        "import glob\n",
        "from music21 import converter, instrument, note, chord\n",
        "\n",
        "# Path to the subfolder containing the MIDI files\n",
        "subfolder_path = os.path.join(extracted_folder_path, 'midi_songs')  # Replace with actual subfolder name\n",
        "\n",
        "# List files in the subfolder to verify\n",
        "extracted_files = os.listdir(subfolder_path)\n",
        "print(\"Files in subfolder:\", extracted_files)\n",
        "\n",
        "notes = []\n",
        "\n",
        "# Process each MIDI file in the subfolder\n",
        "for file in glob.glob(os.path.join(subfolder_path, \"*.mid\")):\n",
        "    print(f\"Processing file: {file}\")\n",
        "    try:\n",
        "        midi = converter.parse(file)\n",
        "        notes_to_parse = None\n",
        "        parts = instrument.partitionByInstrument(midi)\n",
        "        if parts:  # file has instrument parts\n",
        "            notes_to_parse = parts.parts[0].recurse()\n",
        "        else:  # file has notes in a flat structure\n",
        "            notes_to_parse = midi.flat.notes\n",
        "\n",
        "        if not notes_to_parse:\n",
        "            print(f\"No notes to parse in file: {file}\")\n",
        "\n",
        "        for element in notes_to_parse:\n",
        "            if isinstance(element, note.Note):\n",
        "                notes.append(str(element.pitch))\n",
        "            elif isinstance(element, chord.Chord):\n",
        "                notes.append('.'.join(str(n) for n in element.normalOrder))\n",
        "\n",
        "    except Exception as e:\n",
        "        print(f\"Error processing file {file}: {e}\")\n",
        "\n",
        "print(\"Total notes:\", len(notes))\n"
      ]
    },
    {
      "cell_type": "markdown",
      "metadata": {
        "id": "S7KcwZGmB-qj"
      },
      "source": [
        "# ***Analyzing the data***\n",
        "\n",
        "- analysing the note and chordes\n",
        "- analysing the pitch of the music"
      ]
    },
    {
      "cell_type": "code",
      "execution_count": null,
      "metadata": {
        "colab": {
          "base_uri": "https://localhost:8080/"
        },
        "id": "a5tZSQg9BtZu",
        "outputId": "3fce543e-251f-4011-d46a-d08089e5f9b5"
      },
      "outputs": [
        {
          "name": "stdout",
          "output_type": "stream",
          "text": [
            "Total notes: 45976\n",
            "Number of patterns: 45876\n",
            "Sample network_output: [[0. 0. 0. ... 0. 0. 0.]\n",
            " [0. 0. 0. ... 0. 0. 0.]\n",
            " [0. 0. 0. ... 0. 0. 0.]\n",
            " [0. 0. 0. ... 0. 0. 0.]\n",
            " [0. 0. 0. ... 0. 0. 0.]]\n",
            "Network output length: 45876\n",
            "Input shape: (45876, 100, 1)\n",
            "Output shape: (45876, 326)\n"
          ]
        }
      ],
      "source": [
        "import numpy as np\n",
        "from keras.utils import to_categorical\n",
        "\n",
        "sequence_length = 100\n",
        "\n",
        "# Get all pitch names\n",
        "pitchnames = sorted(set(item for item in notes))\n",
        "n_vocab = len(pitchnames)  # Number of unique notes\n",
        "\n",
        "# Create a dictionary to map pitches to integers\n",
        "note_to_int = dict((note, number) for number, note in enumerate(pitchnames))\n",
        "int_to_note = dict((number, note) for number, note in enumerate(pitchnames))\n",
        "\n",
        "network_input = []\n",
        "network_output = []\n",
        "\n",
        "# Create input sequences and the corresponding outputs\n",
        "for i in range(0, len(notes) - sequence_length, 1):\n",
        "    sequence_in = notes[i:i + sequence_length]\n",
        "    sequence_out = notes[i + sequence_length]\n",
        "    network_input.append([note_to_int[char] for char in sequence_in])\n",
        "    network_output.append(note_to_int[sequence_out])\n",
        "\n",
        "n_patterns = len(network_input)\n",
        "\n",
        "# Reshape the input into a format compatible with LSTM layers\n",
        "network_input = np.reshape(network_input, (n_patterns, sequence_length, 1))\n",
        "# Normalize input\n",
        "network_input = network_input / float(n_vocab)\n",
        "network_output = to_categorical(network_output, num_classes=n_vocab)\n",
        "\n",
        "print(\"Total notes:\", len(notes))\n",
        "print(\"Number of patterns:\", n_patterns)\n",
        "print(\"Sample network_output:\", network_output[:5])  # Print a sample of the network_output\n",
        "print(\"Network output length:\", len(network_output))\n",
        "print(\"Input shape:\", network_input.shape)\n",
        "print(\"Output shape:\", network_output.shape)\n"
      ]
    },
    {
      "cell_type": "markdown",
      "metadata": {
        "id": "F4GzG4VeDuFX"
      },
      "source": [
        "# ***Define the LSTM Model***"
      ]
    },
    {
      "cell_type": "code",
      "execution_count": null,
      "metadata": {
        "colab": {
          "base_uri": "https://localhost:8080/"
        },
        "id": "Vi9M_3bJCQps",
        "outputId": "b38f1732-2e96-4694-b08e-7c96416e060d"
      },
      "outputs": [
        {
          "name": "stderr",
          "output_type": "stream",
          "text": [
            "/usr/local/lib/python3.10/dist-packages/keras/src/layers/rnn/rnn.py:204: UserWarning: Do not pass an `input_shape`/`input_dim` argument to a layer. When using Sequential models, prefer using an `Input(shape)` object as the first layer in the model instead.\n",
            "  super().__init__(**kwargs)\n"
          ]
        }
      ],
      "source": [
        "from keras.models import Sequential\n",
        "from keras.layers import LSTM, Dropout, Dense, Activation\n",
        "\n",
        "# Define the model\n",
        "model = Sequential()\n",
        "model.add(LSTM(\n",
        "    256,\n",
        "    input_shape=(network_input.shape[1], network_input.shape[2]),\n",
        "    return_sequences=True\n",
        "))\n",
        "model.add(Dropout(0.3))\n",
        "model.add(LSTM(512, return_sequences=True))\n",
        "model.add(Dropout(0.3))\n",
        "model.add(LSTM(256))\n",
        "model.add(Dense(256))\n",
        "model.add(Dropout(0.3))\n",
        "model.add(Dense(n_vocab))\n",
        "model.add(Activation('softmax'))\n",
        "\n",
        "# Compile the model\n",
        "model.compile(loss='categorical_crossentropy', optimizer='rmsprop')\n"
      ]
    },
    {
      "cell_type": "markdown",
      "metadata": {
        "id": "mLNqDczLDzax"
      },
      "source": [
        "# ***Trainig the Model***"
      ]
    },
    {
      "cell_type": "code",
      "execution_count": null,
      "metadata": {
        "colab": {
          "base_uri": "https://localhost:8080/",
          "height": 420
        },
        "id": "SCUwZ52VDw7g",
        "outputId": "4def33dd-21b7-43cb-a81c-c1b6de237828"
      },
      "outputs": [
        {
          "data": {
            "text/html": [
              "<pre style=\"white-space:pre;overflow-x:auto;line-height:normal;font-family:Menlo,'DejaVu Sans Mono',consolas,'Courier New',monospace\"><span style=\"font-weight: bold\">Model: \"sequential_1\"</span>\n",
              "</pre>\n"
            ],
            "text/plain": [
              "\u001b[1mModel: \"sequential_1\"\u001b[0m\n"
            ]
          },
          "metadata": {},
          "output_type": "display_data"
        },
        {
          "data": {
            "text/html": [
              "<pre style=\"white-space:pre;overflow-x:auto;line-height:normal;font-family:Menlo,'DejaVu Sans Mono',consolas,'Courier New',monospace\">┏━━━━━━━━━━━━━━━━━━━━━━━━━━━━━━━━━━━━━━┳━━━━━━━━━━━━━━━━━━━━━━━━━━━━━┳━━━━━━━━━━━━━━━━━┓\n",
              "┃<span style=\"font-weight: bold\"> Layer (type)                         </span>┃<span style=\"font-weight: bold\"> Output Shape                </span>┃<span style=\"font-weight: bold\">         Param # </span>┃\n",
              "┡━━━━━━━━━━━━━━━━━━━━━━━━━━━━━━━━━━━━━━╇━━━━━━━━━━━━━━━━━━━━━━━━━━━━━╇━━━━━━━━━━━━━━━━━┩\n",
              "│ lstm_3 (<span style=\"color: #0087ff; text-decoration-color: #0087ff\">LSTM</span>)                        │ (<span style=\"color: #00d7ff; text-decoration-color: #00d7ff\">None</span>, <span style=\"color: #00af00; text-decoration-color: #00af00\">100</span>, <span style=\"color: #00af00; text-decoration-color: #00af00\">512</span>)            │       <span style=\"color: #00af00; text-decoration-color: #00af00\">1,052,672</span> │\n",
              "├──────────────────────────────────────┼─────────────────────────────┼─────────────────┤\n",
              "│ dropout_3 (<span style=\"color: #0087ff; text-decoration-color: #0087ff\">Dropout</span>)                  │ (<span style=\"color: #00d7ff; text-decoration-color: #00d7ff\">None</span>, <span style=\"color: #00af00; text-decoration-color: #00af00\">100</span>, <span style=\"color: #00af00; text-decoration-color: #00af00\">512</span>)            │               <span style=\"color: #00af00; text-decoration-color: #00af00\">0</span> │\n",
              "├──────────────────────────────────────┼─────────────────────────────┼─────────────────┤\n",
              "│ lstm_4 (<span style=\"color: #0087ff; text-decoration-color: #0087ff\">LSTM</span>)                        │ (<span style=\"color: #00d7ff; text-decoration-color: #00d7ff\">None</span>, <span style=\"color: #00af00; text-decoration-color: #00af00\">100</span>, <span style=\"color: #00af00; text-decoration-color: #00af00\">512</span>)            │       <span style=\"color: #00af00; text-decoration-color: #00af00\">2,099,200</span> │\n",
              "├──────────────────────────────────────┼─────────────────────────────┼─────────────────┤\n",
              "│ dropout_4 (<span style=\"color: #0087ff; text-decoration-color: #0087ff\">Dropout</span>)                  │ (<span style=\"color: #00d7ff; text-decoration-color: #00d7ff\">None</span>, <span style=\"color: #00af00; text-decoration-color: #00af00\">100</span>, <span style=\"color: #00af00; text-decoration-color: #00af00\">512</span>)            │               <span style=\"color: #00af00; text-decoration-color: #00af00\">0</span> │\n",
              "├──────────────────────────────────────┼─────────────────────────────┼─────────────────┤\n",
              "│ lstm_5 (<span style=\"color: #0087ff; text-decoration-color: #0087ff\">LSTM</span>)                        │ (<span style=\"color: #00d7ff; text-decoration-color: #00d7ff\">None</span>, <span style=\"color: #00af00; text-decoration-color: #00af00\">512</span>)                 │       <span style=\"color: #00af00; text-decoration-color: #00af00\">2,099,200</span> │\n",
              "├──────────────────────────────────────┼─────────────────────────────┼─────────────────┤\n",
              "│ dense_2 (<span style=\"color: #0087ff; text-decoration-color: #0087ff\">Dense</span>)                      │ (<span style=\"color: #00d7ff; text-decoration-color: #00d7ff\">None</span>, <span style=\"color: #00af00; text-decoration-color: #00af00\">256</span>)                 │         <span style=\"color: #00af00; text-decoration-color: #00af00\">131,328</span> │\n",
              "├──────────────────────────────────────┼─────────────────────────────┼─────────────────┤\n",
              "│ dropout_5 (<span style=\"color: #0087ff; text-decoration-color: #0087ff\">Dropout</span>)                  │ (<span style=\"color: #00d7ff; text-decoration-color: #00d7ff\">None</span>, <span style=\"color: #00af00; text-decoration-color: #00af00\">256</span>)                 │               <span style=\"color: #00af00; text-decoration-color: #00af00\">0</span> │\n",
              "├──────────────────────────────────────┼─────────────────────────────┼─────────────────┤\n",
              "│ dense_3 (<span style=\"color: #0087ff; text-decoration-color: #0087ff\">Dense</span>)                      │ (<span style=\"color: #00d7ff; text-decoration-color: #00d7ff\">None</span>, <span style=\"color: #00af00; text-decoration-color: #00af00\">326</span>)                 │          <span style=\"color: #00af00; text-decoration-color: #00af00\">83,782</span> │\n",
              "├──────────────────────────────────────┼─────────────────────────────┼─────────────────┤\n",
              "│ activation_1 (<span style=\"color: #0087ff; text-decoration-color: #0087ff\">Activation</span>)            │ (<span style=\"color: #00d7ff; text-decoration-color: #00d7ff\">None</span>, <span style=\"color: #00af00; text-decoration-color: #00af00\">326</span>)                 │               <span style=\"color: #00af00; text-decoration-color: #00af00\">0</span> │\n",
              "└──────────────────────────────────────┴─────────────────────────────┴─────────────────┘\n",
              "</pre>\n"
            ],
            "text/plain": [
              "┏━━━━━━━━━━━━━━━━━━━━━━━━━━━━━━━━━━━━━━┳━━━━━━━━━━━━━━━━━━━━━━━━━━━━━┳━━━━━━━━━━━━━━━━━┓\n",
              "┃\u001b[1m \u001b[0m\u001b[1mLayer (type)                        \u001b[0m\u001b[1m \u001b[0m┃\u001b[1m \u001b[0m\u001b[1mOutput Shape               \u001b[0m\u001b[1m \u001b[0m┃\u001b[1m \u001b[0m\u001b[1m        Param #\u001b[0m\u001b[1m \u001b[0m┃\n",
              "┡━━━━━━━━━━━━━━━━━━━━━━━━━━━━━━━━━━━━━━╇━━━━━━━━━━━━━━━━━━━━━━━━━━━━━╇━━━━━━━━━━━━━━━━━┩\n",
              "│ lstm_3 (\u001b[38;5;33mLSTM\u001b[0m)                        │ (\u001b[38;5;45mNone\u001b[0m, \u001b[38;5;34m100\u001b[0m, \u001b[38;5;34m512\u001b[0m)            │       \u001b[38;5;34m1,052,672\u001b[0m │\n",
              "├──────────────────────────────────────┼─────────────────────────────┼─────────────────┤\n",
              "│ dropout_3 (\u001b[38;5;33mDropout\u001b[0m)                  │ (\u001b[38;5;45mNone\u001b[0m, \u001b[38;5;34m100\u001b[0m, \u001b[38;5;34m512\u001b[0m)            │               \u001b[38;5;34m0\u001b[0m │\n",
              "├──────────────────────────────────────┼─────────────────────────────┼─────────────────┤\n",
              "│ lstm_4 (\u001b[38;5;33mLSTM\u001b[0m)                        │ (\u001b[38;5;45mNone\u001b[0m, \u001b[38;5;34m100\u001b[0m, \u001b[38;5;34m512\u001b[0m)            │       \u001b[38;5;34m2,099,200\u001b[0m │\n",
              "├──────────────────────────────────────┼─────────────────────────────┼─────────────────┤\n",
              "│ dropout_4 (\u001b[38;5;33mDropout\u001b[0m)                  │ (\u001b[38;5;45mNone\u001b[0m, \u001b[38;5;34m100\u001b[0m, \u001b[38;5;34m512\u001b[0m)            │               \u001b[38;5;34m0\u001b[0m │\n",
              "├──────────────────────────────────────┼─────────────────────────────┼─────────────────┤\n",
              "│ lstm_5 (\u001b[38;5;33mLSTM\u001b[0m)                        │ (\u001b[38;5;45mNone\u001b[0m, \u001b[38;5;34m512\u001b[0m)                 │       \u001b[38;5;34m2,099,200\u001b[0m │\n",
              "├──────────────────────────────────────┼─────────────────────────────┼─────────────────┤\n",
              "│ dense_2 (\u001b[38;5;33mDense\u001b[0m)                      │ (\u001b[38;5;45mNone\u001b[0m, \u001b[38;5;34m256\u001b[0m)                 │         \u001b[38;5;34m131,328\u001b[0m │\n",
              "├──────────────────────────────────────┼─────────────────────────────┼─────────────────┤\n",
              "│ dropout_5 (\u001b[38;5;33mDropout\u001b[0m)                  │ (\u001b[38;5;45mNone\u001b[0m, \u001b[38;5;34m256\u001b[0m)                 │               \u001b[38;5;34m0\u001b[0m │\n",
              "├──────────────────────────────────────┼─────────────────────────────┼─────────────────┤\n",
              "│ dense_3 (\u001b[38;5;33mDense\u001b[0m)                      │ (\u001b[38;5;45mNone\u001b[0m, \u001b[38;5;34m326\u001b[0m)                 │          \u001b[38;5;34m83,782\u001b[0m │\n",
              "├──────────────────────────────────────┼─────────────────────────────┼─────────────────┤\n",
              "│ activation_1 (\u001b[38;5;33mActivation\u001b[0m)            │ (\u001b[38;5;45mNone\u001b[0m, \u001b[38;5;34m326\u001b[0m)                 │               \u001b[38;5;34m0\u001b[0m │\n",
              "└──────────────────────────────────────┴─────────────────────────────┴─────────────────┘\n"
            ]
          },
          "metadata": {},
          "output_type": "display_data"
        },
        {
          "data": {
            "text/html": [
              "<pre style=\"white-space:pre;overflow-x:auto;line-height:normal;font-family:Menlo,'DejaVu Sans Mono',consolas,'Courier New',monospace\"><span style=\"font-weight: bold\"> Total params: </span><span style=\"color: #00af00; text-decoration-color: #00af00\">5,466,182</span> (20.85 MB)\n",
              "</pre>\n"
            ],
            "text/plain": [
              "\u001b[1m Total params: \u001b[0m\u001b[38;5;34m5,466,182\u001b[0m (20.85 MB)\n"
            ]
          },
          "metadata": {},
          "output_type": "display_data"
        },
        {
          "data": {
            "text/html": [
              "<pre style=\"white-space:pre;overflow-x:auto;line-height:normal;font-family:Menlo,'DejaVu Sans Mono',consolas,'Courier New',monospace\"><span style=\"font-weight: bold\"> Trainable params: </span><span style=\"color: #00af00; text-decoration-color: #00af00\">5,466,182</span> (20.85 MB)\n",
              "</pre>\n"
            ],
            "text/plain": [
              "\u001b[1m Trainable params: \u001b[0m\u001b[38;5;34m5,466,182\u001b[0m (20.85 MB)\n"
            ]
          },
          "metadata": {},
          "output_type": "display_data"
        },
        {
          "data": {
            "text/html": [
              "<pre style=\"white-space:pre;overflow-x:auto;line-height:normal;font-family:Menlo,'DejaVu Sans Mono',consolas,'Courier New',monospace\"><span style=\"font-weight: bold\"> Non-trainable params: </span><span style=\"color: #00af00; text-decoration-color: #00af00\">0</span> (0.00 B)\n",
              "</pre>\n"
            ],
            "text/plain": [
              "\u001b[1m Non-trainable params: \u001b[0m\u001b[38;5;34m0\u001b[0m (0.00 B)\n"
            ]
          },
          "metadata": {},
          "output_type": "display_data"
        }
      ],
      "source": [
        "from keras.models import Sequential\n",
        "from keras.layers import LSTM, Dropout, Dense, Activation\n",
        "\n",
        "model = Sequential()\n",
        "model.add(LSTM(\n",
        "    512,\n",
        "    input_shape=(network_input.shape[1], network_input.shape[2]),\n",
        "    return_sequences=True\n",
        "))\n",
        "model.add(Dropout(0.3))\n",
        "model.add(LSTM(512, return_sequences=True))\n",
        "model.add(Dropout(0.3))\n",
        "model.add(LSTM(512))\n",
        "model.add(Dense(256))\n",
        "model.add(Dropout(0.3))\n",
        "model.add(Dense(n_vocab))\n",
        "model.add(Activation('softmax'))\n",
        "model.compile(loss='categorical_crossentropy', optimizer='rmsprop')\n",
        "\n",
        "model.summary()  # Print model summary to verify the architecture\n"
      ]
    },
    {
      "cell_type": "code",
      "execution_count": null,
      "metadata": {
        "colab": {
          "background_save": true,
          "base_uri": "https://localhost:8080/"
        },
        "id": "Z-ev3eV1D14N",
        "outputId": "8ce12b8b-4d77-4c96-8883-b7e9045d46ec"
      },
      "outputs": [
        {
          "name": "stdout",
          "output_type": "stream",
          "text": [
            "Epoch 1/25\n",
            "\u001b[1m717/717\u001b[0m \u001b[32m━━━━━━━━━━━━━━━━━━━━\u001b[0m\u001b[37m\u001b[0m \u001b[1m0s\u001b[0m 4s/step - loss: 4.7518\n",
            "Epoch 1: loss improved from inf to 4.62689, saving model to weights-improvement-01-4.6269-bigger.keras\n",
            "\u001b[1m717/717\u001b[0m \u001b[32m━━━━━━━━━━━━━━━━━━━━\u001b[0m\u001b[37m\u001b[0m \u001b[1m2954s\u001b[0m 4s/step - loss: 4.7516\n",
            "Epoch 2/25\n",
            "\u001b[1m717/717\u001b[0m \u001b[32m━━━━━━━━━━━━━━━━━━━━\u001b[0m\u001b[37m\u001b[0m \u001b[1m0s\u001b[0m 4s/step - loss: 4.5311\n",
            "Epoch 2: loss improved from 4.62689 to 4.52448, saving model to weights-improvement-02-4.5245-bigger.keras\n",
            "\u001b[1m717/717\u001b[0m \u001b[32m━━━━━━━━━━━━━━━━━━━━\u001b[0m\u001b[37m\u001b[0m \u001b[1m2762s\u001b[0m 4s/step - loss: 4.5311\n",
            "Epoch 3/25\n",
            "\u001b[1m717/717\u001b[0m \u001b[32m━━━━━━━━━━━━━━━━━━━━\u001b[0m\u001b[37m\u001b[0m \u001b[1m0s\u001b[0m 4s/step - loss: 4.4984\n",
            "Epoch 3: loss improved from 4.52448 to 4.49070, saving model to weights-improvement-03-4.4907-bigger.keras\n",
            "\u001b[1m717/717\u001b[0m \u001b[32m━━━━━━━━━━━━━━━━━━━━\u001b[0m\u001b[37m\u001b[0m \u001b[1m3171s\u001b[0m 4s/step - loss: 4.4984\n",
            "Epoch 4/25\n",
            "\u001b[1m717/717\u001b[0m \u001b[32m━━━━━━━━━━━━━━━━━━━━\u001b[0m\u001b[37m\u001b[0m \u001b[1m0s\u001b[0m 4s/step - loss: 4.4682\n",
            "Epoch 4: loss improved from 4.49070 to 4.46473, saving model to weights-improvement-04-4.4647-bigger.keras\n",
            "\u001b[1m717/717\u001b[0m \u001b[32m━━━━━━━━━━━━━━━━━━━━\u001b[0m\u001b[37m\u001b[0m \u001b[1m2931s\u001b[0m 4s/step - loss: 4.4682\n",
            "Epoch 5/25\n",
            "\u001b[1m717/717\u001b[0m \u001b[32m━━━━━━━━━━━━━━━━━━━━\u001b[0m\u001b[37m\u001b[0m \u001b[1m0s\u001b[0m 4s/step - loss: 4.4277\n",
            "Epoch 5: loss improved from 4.46473 to 4.42677, saving model to weights-improvement-05-4.4268-bigger.keras\n",
            "\u001b[1m717/717\u001b[0m \u001b[32m━━━━━━━━━━━━━━━━━━━━\u001b[0m\u001b[37m\u001b[0m \u001b[1m3176s\u001b[0m 4s/step - loss: 4.4277\n",
            "Epoch 6/25\n",
            "\u001b[1m717/717\u001b[0m \u001b[32m━━━━━━━━━━━━━━━━━━━━\u001b[0m\u001b[37m\u001b[0m \u001b[1m0s\u001b[0m 4s/step - loss: 4.3866\n",
            "Epoch 6: loss improved from 4.42677 to 4.38005, saving model to weights-improvement-06-4.3801-bigger.keras\n",
            "\u001b[1m717/717\u001b[0m \u001b[32m━━━━━━━━━━━━━━━━━━━━\u001b[0m\u001b[37m\u001b[0m \u001b[1m2677s\u001b[0m 4s/step - loss: 4.3866\n",
            "Epoch 7/25\n",
            "\u001b[1m717/717\u001b[0m \u001b[32m━━━━━━━━━━━━━━━━━━━━\u001b[0m\u001b[37m\u001b[0m \u001b[1m0s\u001b[0m 4s/step - loss: 4.3362\n",
            "Epoch 7: loss improved from 4.38005 to 4.32660, saving model to weights-improvement-07-4.3266-bigger.keras\n",
            "\u001b[1m717/717\u001b[0m \u001b[32m━━━━━━━━━━━━━━━━━━━━\u001b[0m\u001b[37m\u001b[0m \u001b[1m3144s\u001b[0m 4s/step - loss: 4.3362\n",
            "Epoch 8/25\n",
            "\u001b[1m637/717\u001b[0m \u001b[32m━━━━━━━━━━━━━━━━━\u001b[0m\u001b[37m━━━\u001b[0m \u001b[1m5:18\u001b[0m 4s/step - loss: 4.2643"
          ]
        }
      ],
      "source": [
        "import numpy as np\n",
        "from keras.models import Sequential\n",
        "from keras.layers import LSTM, Dropout, Dense, Activation\n",
        "from keras.callbacks import ModelCheckpoint\n",
        "from keras.utils import to_categorical\n",
        "\n",
        "# Prepare the data\n",
        "sequence_length = 100\n",
        "pitchnames = sorted(set(item for item in notes))\n",
        "note_to_int = dict((note, number) for number, note in enumerate(pitchnames))\n",
        "n_vocab = len(note_to_int)\n",
        "\n",
        "# Create input sequences and the corresponding outputs\n",
        "network_input = []\n",
        "network_output = []\n",
        "for i in range(0, len(notes) - sequence_length, 1):\n",
        "    sequence_in = notes[i:i + sequence_length]\n",
        "    sequence_out = notes[i + sequence_length]\n",
        "    network_input.append([note_to_int[char] for char in sequence_in])\n",
        "    network_output.append(note_to_int[sequence_out])\n",
        "\n",
        "n_patterns = len(network_input)\n",
        "\n",
        "# Reshape the input into a format compatible with LSTM layers\n",
        "network_input = np.reshape(network_input, (n_patterns, sequence_length, 1))\n",
        "network_input = network_input / float(n_vocab)\n",
        "network_output = to_categorical(network_output)\n",
        "\n",
        "# Define the model\n",
        "model = Sequential()\n",
        "model.add(LSTM(\n",
        "    256,\n",
        "    input_shape=(network_input.shape[1], network_input.shape[2]),\n",
        "    return_sequences=True\n",
        "))\n",
        "model.add(Dropout(0.3))\n",
        "model.add(LSTM(512, return_sequences=True))\n",
        "model.add(Dropout(0.3))\n",
        "model.add(LSTM(256))\n",
        "model.add(Dense(256))\n",
        "model.add(Dropout(0.3))\n",
        "model.add(Dense(n_vocab))\n",
        "model.add(Activation('softmax'))\n",
        "model.compile(loss='categorical_crossentropy', optimizer='rmsprop')\n",
        "\n",
        "# Set up ModelCheckpoint to save the best model\n",
        "filepath = \"weights-improvement-{epoch:02d}-{loss:.4f}-bigger.keras\"\n",
        "checkpoint = ModelCheckpoint(\n",
        "    filepath, monitor='loss',\n",
        "    verbose=1,\n",
        "    save_best_only=True,\n",
        "    mode='min'\n",
        ")\n",
        "callbacks_list = [checkpoint]\n",
        "\n",
        "# Train the model\n",
        "# Train the model with fewer epochs\n",
        "model.fit(network_input, network_output, epochs=25, batch_size=64, callbacks=callbacks_list)\n",
        "\n"
      ]
    },
    {
      "cell_type": "code",
      "execution_count": null,
      "metadata": {
        "id": "X3LY66lND-YM"
      },
      "outputs": [],
      "source": []
    }
  ],
  "metadata": {
    "colab": {
      "provenance": []
    },
    "kernelspec": {
      "display_name": "Python 3",
      "name": "python3"
    },
    "language_info": {
      "name": "python"
    }
  },
  "nbformat": 4,
  "nbformat_minor": 0
}